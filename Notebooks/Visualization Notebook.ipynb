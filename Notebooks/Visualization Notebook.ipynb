{
 "cells": [
  {
   "cell_type": "markdown",
   "metadata": {},
   "source": [
    "## Visualization Notebook "
   ]
  },
  {
   "cell_type": "code",
   "execution_count": 1,
   "metadata": {},
   "outputs": [],
   "source": [
    "import warnings\n",
    "warnings.filterwarnings('ignore')\n",
    "%matplotlib qt\n",
    "\n",
    "#pandas and numpy\n",
    "import pandas as pd\n",
    "import numpy as np\n",
    "\n",
    "# visualization libraries\n",
    "import matplotlib.pyplot as plt\n",
    "import seaborn as sns\n",
    "\n",
    "# sk learn\n",
    "from sklearn import linear_model\n",
    "from sklearn.model_selection import train_test_split\n",
    "from sklearn.linear_model import LinearRegression\n",
    "from sklearn.metrics import mean_squared_error\n",
    "from sklearn.feature_selection import RFE \n",
    "\n",
    "# stats and scipy\n",
    "import statsmodels.api as sm\n",
    "from statsmodels.stats.outliers_influence import variance_inflation_factor\n",
    "from statsmodels.formula.api import ols\n",
    "import scipy.stats as stats\n",
    "\n",
    "\n",
    "#pd.options.display.float_format = '{:,.4f}'.format"
   ]
  },
  {
   "cell_type": "markdown",
   "metadata": {},
   "source": [
    "### Import Cleaned Dataframes"
   ]
  },
  {
   "cell_type": "code",
   "execution_count": 24,
   "metadata": {},
   "outputs": [],
   "source": [
    "data = pd.read_csv(r'C:\\Users\\Nick\\Documents\\Flatiron Project 2\\dsc-phase-2-project-online-master\\dsc-phase-2-project-online-master\\data\\kc_house_data.csv')\n",
    "data_ = pd.read_csv(r'C:\\Users\\Nick\\Documents\\Flatiron Project 2\\dsc-phase-2-project-online-master\\dsc-phase-2-project-online-master\\data\\cleaned_data_features.csv')\n",
    "data_z = pd.read_csv(r'C:\\Users\\Nick\\Documents\\Flatiron Project 2\\dsc-phase-2-project-online-master\\dsc-phase-2-project-online-master\\data\\z_score_data.csv')\n",
    "data_log = pd.read_csv(r'C:\\Users\\Nick\\Documents\\Flatiron Project 2\\dsc-phase-2-project-online-master\\dsc-phase-2-project-online-master\\data\\log_transform_data.csv')"
   ]
  },
  {
   "cell_type": "markdown",
   "metadata": {},
   "source": [
    "### 2D Scatter of Price vs. Grade "
   ]
  },
  {
   "cell_type": "code",
   "execution_count": 35,
   "metadata": {},
   "outputs": [],
   "source": [
    "# scatterplot of the two variables with linear regression\n",
    "fig = plt.figure(figsize=(13,8))\n",
    "ax = sns.regplot(x=data_['Grade'], y=data_['Price'], marker='o', color='dodgerblue', scatter_kws={'s':5}, line_kws={\"color\": \"mediumspringgreen\"})\n",
    "\n",
    "# sets the labels and titles of the plot\n",
    "plt.title('Price vs. Grade', y=1.0, fontsize=16)\n",
    "plt.xlabel('Grade', fontsize=12) \n",
    "plt.ylabel('Price', fontsize=12)\n",
    "ax.set_xticks(range(3,14))\n",
    "ax.set_xticklabels(range(2,14))\n",
    "ax.ticklabel_format(style='plain', axis='y')\n",
    "\n",
    "# calculates the linear regression values using scipy's linregress function\n",
    "slope, intercept, r_value, p_value, std_err = stats.linregress(data_['Grade'], [data_['Price']])\n",
    "\n",
    "# squares the r-value from the linear regression to find R-squared\n",
    "plt.text(3.2,7750000, 'R-squared:' + str(round((r_value**2),4)) , fontsize=12);"
   ]
  },
  {
   "cell_type": "markdown",
   "metadata": {},
   "source": [
    "### 2D Scatter of Price vs. Square Footage"
   ]
  },
  {
   "cell_type": "code",
   "execution_count": 41,
   "metadata": {},
   "outputs": [],
   "source": [
    "# scatterplot of the two variables with linear regression\n",
    "fig = plt.figure(figsize=(13,8))\n",
    "ax = sns.regplot(x=data_['sqft_House'], y=data_['Price'], marker='o', color='dodgerblue', scatter_kws={'s':5}, line_kws={\"color\": \"mediumspringgreen\"})\n",
    "\n",
    "# sets the labels and titles of the plot\n",
    "plt.title('Price vs. Square Footage', y=1.0, fontsize=16)\n",
    "plt.xlabel('Square Footage', fontsize=12) \n",
    "plt.ylabel('Price', fontsize=12)\n",
    "ax.ticklabel_format(style='plain', axis='y')\n",
    "\n",
    "# calculates the linear regression values using scipy's linregress function\n",
    "slope, intercept, r_value, p_value, std_err = stats.linregress(data_['sqft_House'], [data_['Price']])\n",
    "\n",
    "# squares the r-value from the linear regression to find R-squared\n",
    "plt.text(500,7750000, 'R-squared:' + str(round((r_value**2),4)) , fontsize=12);"
   ]
  },
  {
   "cell_type": "code",
   "execution_count": null,
   "metadata": {},
   "outputs": [],
   "source": []
  }
 ],
 "metadata": {
  "kernelspec": {
   "display_name": "Python 3",
   "language": "python",
   "name": "python3"
  },
  "language_info": {
   "codemirror_mode": {
    "name": "ipython",
    "version": 3
   },
   "file_extension": ".py",
   "mimetype": "text/x-python",
   "name": "python",
   "nbconvert_exporter": "python",
   "pygments_lexer": "ipython3",
   "version": "3.8.3"
  },
  "toc": {
   "base_numbering": 1,
   "nav_menu": {},
   "number_sections": false,
   "sideBar": true,
   "skip_h1_title": false,
   "title_cell": "Table of Contents",
   "title_sidebar": "Contents",
   "toc_cell": false,
   "toc_position": {
    "height": "calc(100% - 180px)",
    "left": "10px",
    "top": "150px",
    "width": "349.091px"
   },
   "toc_section_display": true,
   "toc_window_display": true
  },
  "varInspector": {
   "cols": {
    "lenName": 16,
    "lenType": 16,
    "lenVar": 40
   },
   "kernels_config": {
    "python": {
     "delete_cmd_postfix": "",
     "delete_cmd_prefix": "del ",
     "library": "var_list.py",
     "varRefreshCmd": "print(var_dic_list())"
    },
    "r": {
     "delete_cmd_postfix": ") ",
     "delete_cmd_prefix": "rm(",
     "library": "var_list.r",
     "varRefreshCmd": "cat(var_dic_list()) "
    }
   },
   "types_to_exclude": [
    "module",
    "function",
    "builtin_function_or_method",
    "instance",
    "_Feature"
   ],
   "window_display": false
  }
 },
 "nbformat": 4,
 "nbformat_minor": 2
}
